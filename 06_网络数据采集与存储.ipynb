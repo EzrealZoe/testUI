{
 "cells": [
  {
   "cell_type": "markdown",
   "metadata": {},
   "source": [
    "# 1. 网络访问工具\n",
    "- 访问工具：浏览器\n",
    "- 测试工具：postman\n",
    "- 编程实现：apache httpclient\n",
    "- 响应返回的页面数据解析\n",
    "    1. jsoup实现页面数据解析\n",
    "    2. document对象数据抽取\n",
    "    \n",
    "- 抓包工具：Charles\n",
    "\n",
    "\n",
    "- 注意\n",
    "    1. 多线程\n",
    "    2. 无间断\n",
    "    \n",
    "### 2. 实现功能\n",
    "\n",
    "- httpclient发送请求发问豆瓣网电影模块top250\n",
    "- html，jsoup, 字符串\n",
    "\n",
    "### 3. 抽取的页面数据存储\n",
    "\n",
    "- logback\n",
    "\n",
    "\n",
    "### 4. 本地存储的数据同步到HDFS\n",
    "\n",
    "\n",
    "-------------------------------\n",
    "\n"
   ]
  },
  {
   "cell_type": "markdown",
   "metadata": {},
   "source": [
    "### 实现步骤\n",
    "\n",
    "- 创建project工程(maven)\n",
    "    1. pom.xml, httpclient, jsoup, logback\n",
    "    \n",
    "\n",
    "        \n",
    "        \n",
    "    "
   ]
  },
  {
   "cell_type": "markdown",
   "metadata": {},
   "source": [
    "- 分析访问页面请求的规律\n",
    "\n",
    "    1. https://movie.douban.com/top250\n",
    "    2. https://movie.douban.com/top250?start=25&filter=\n",
    "    3. https://movie.douban.com/top250?start=50&filter=\n",
    "    \n",
    "    \n",
    "- 响应数据的规律\n",
    "\n",
    "    1. li标记对\n",
    "    2. 电影名称、评分、评价人数\n",
    "    "
   ]
  }
 ],
 "metadata": {
  "kernelspec": {
   "display_name": "Python 3",
   "language": "python",
   "name": "python3"
  },
  "language_info": {
   "codemirror_mode": {
    "name": "ipython",
    "version": 3
   },
   "file_extension": ".py",
   "mimetype": "text/x-python",
   "name": "python",
   "nbconvert_exporter": "python",
   "pygments_lexer": "ipython3",
   "version": "3.8.3"
  }
 },
 "nbformat": 4,
 "nbformat_minor": 4
}
