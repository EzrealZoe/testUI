{
 "cells": [
  {
   "cell_type": "markdown",
   "metadata": {},
   "source": [
    "### 1. 开发工具\n",
    " \n",
    "- IDEA工具，2019/2020\n",
    "\n",
    "- 创建项目(Spring Boot)\n",
    "- 构建工具：maven\n",
    "- JDK：1.8\n",
    "- SpringBoot\\Druid\\MySQL\\MyBatis Plus\n",
    "\n",
    "\n"
   ]
  },
  {
   "cell_type": "markdown",
   "metadata": {},
   "source": [
    "### 2. 应用接口测试\n",
    "- 浏览器\n",
    "- postman\n"
   ]
  },
  {
   "cell_type": "code",
   "execution_count": null,
   "metadata": {},
   "outputs": [],
   "source": [
    "[{\n",
    "\t\"userid\": \"0c9e85a1-5e19-48ec-ac1b-aa31c2832243\",\n",
    "\t\"name\": \"吴艳 \",\n",
    "\t\"openId\": null,\n",
    "\t\"accid\": null,\n",
    "\t\"token\": null,\n",
    "\t\"weixinname\": null,\n",
    "\t\"weixinid\": null,\n",
    "\t\"weixinpic\": null,\n",
    "\t\"phoneNumber\": \"138****6992\",\n",
    "\t\"registdate\": null,\n",
    "\t\"updatedate\": null,\n",
    "\t\"parentid\": 1,\n",
    "\t\"userlevel\": 0,\n",
    "\t\"teamnum\": 2,\n",
    "\t\"straightpush\": 0,\n",
    "\t\"userclient\": null,\n",
    "\t\"other1\": null,\n",
    "\t\"other2\": null,\n",
    "\t\"qrcodepath\": null\n",
    "}, {\n",
    "\t\"userid\": \"12b3b6c6-db9d-4b07-98c0-32f6e0a0e624\",\n",
    "\t\"name\": \"欣霞\",\n",
    "\t\"openId\": null,\n",
    "\t\"accid\": null,\n",
    "\t\"token\": null,\n",
    "\t\"weixinname\": null,\n",
    "\t\"weixinid\": null,\n",
    "\t\"weixinpic\": null,\n",
    "\t\"phoneNumber\": \"135****1369\",\n",
    "\t\"registdate\": null,\n",
    "\t\"updatedate\": null,\n",
    "\t\"parentid\": 7,\n",
    "\t\"userlevel\": 0,\n",
    "\t\"teamnum\": 3,\n",
    "\t\"straightpush\": 0,\n",
    "\t\"userclient\": null,\n",
    "\t\"other1\": null,\n",
    "\t\"other2\": null,\n",
    "\t\"qrcodepath\": null\n",
    "}, \n",
    "......\n",
    "]"
   ]
  },
  {
   "cell_type": "markdown",
   "metadata": {},
   "source": [
    "### 3. 服务接口编码规范\n",
    "    \n",
    "- 如果接口中有参数，要对参数进行校验\n",
    "- 异常要做处理,自定义异常封装异常信息\n",
    "- 封装为JSON对象返回\n",
    "- 约定：errcode（20001，xxxx；30002，xxxx；0），data，errmsg（“error message....”）\n",
    "\n"
   ]
  },
  {
   "cell_type": "code",
   "execution_count": null,
   "metadata": {},
   "outputs": [],
   "source": [
    "{\n",
    "    \"erroce\": \"0\",\n",
    "    \"data\": [\n",
    "        {\n",
    "            \"QRcodepath\": \"\",\n",
    "            \"accid\": \"\",\n",
    "            \"name\": \"吴艳 \",\n",
    "            \"openId\": \"\",\n",
    "            \"other1\": \"\",\n",
    "            \"other2\": \"\",\n",
    "            \"parentid\": 1,\n",
    "            \"phoneNumber\": \"138****6992\",\n",
    "            \"registdate\": \"\",\n",
    "            \"straightpush\": 0,\n",
    "            \"teamnum\": 2,\n",
    "            \"token\": \"\",\n",
    "            \"updatedate\": \"\",\n",
    "            \"userclient\": 0,\n",
    "            \"userid\": \"0c9e85a1-5e19-48ec-ac1b-aa31c2832243\",\n",
    "            \"userlevel\": 0,\n",
    "            \"weixinid\": \"\",\n",
    "            \"weixinname\": \"\",\n",
    "            \"weixinpic\": \"\"\n",
    "        },\n",
    "        {\n",
    "            \"QRcodepath\": \"\",\n",
    "            \"accid\": \"\",\n",
    "            \"name\": \"欣霞\",\n",
    "            \"openId\": \"\",\n",
    "            \"other1\": \"\",\n",
    "            \"other2\": \"\",\n",
    "            \"parentid\": 7,\n",
    "            \"phoneNumber\": \"135****1369\",\n",
    "            \"registdate\": \"\",\n",
    "            \"straightpush\": 0,\n",
    "            \"teamnum\": 3,\n",
    "            \"token\": \"\",\n",
    "            \"updatedate\": \"\",\n",
    "            \"userclient\": 0,\n",
    "            \"userid\": \"12b3b6c6-db9d-4b07-98c0-32f6e0a0e624\",\n",
    "            \"userlevel\": 0,\n",
    "            \"weixinid\": \"\",\n",
    "            \"weixinname\": \"\",\n",
    "            \"weixinpic\": \"\"\n",
    "        },\n",
    "        ......\n",
    "    ]\n",
    "}"
   ]
  },
  {
   "cell_type": "markdown",
   "metadata": {},
   "source": [
    "- 接口服务说明文档\n",
    "\n",
    "    1. 请求方式：GET/POST(HTTP/HTTPS)\n",
    "    2. 接口功能说明：功能描述\n",
    "    3. 请求地址：/user/getuserlist\n",
    "    4. 请求参数说明：（无）\n",
    "    表格\n",
    "     \n",
    "    编号     参数名     是否必须      参数说明\n",
    "    \n",
    "    \n",
    "    5. 返回结果\n",
    "    包含所有的可能结果\n",
    "    \n",
    "    6. 结果参数说明\n",
    "    \n",
    "    表格\n",
    "    \n",
    "    编号    字段名     字段说明\n",
    "    "
   ]
  },
  {
   "cell_type": "markdown",
   "metadata": {},
   "source": [
    "### 4. 企业应用打包\n",
    "\n",
    "- Spring Boot，maven\n",
    "- 打包前clean\n",
    "- 执行package\n",
    "- jar\n",
    "\n",
    "\n",
    "### 5. 企业应用jar包运行\n",
    "\n",
    "- 上传服务器\n",
    "- 服务器有Java运行环境\n",
    "- 执行jar包"
   ]
  },
  {
   "cell_type": "code",
   "execution_count": null,
   "metadata": {},
   "outputs": [],
   "source": [
    "    $ nohup java -jar letao-0.0.1-SNAPSHOT.jar &\n",
    "    \n",
    "    $ tail -f nohup.out\n",
    "    \n",
    "    Warn: Could not find @TableId in Class: cn.com.chinahitech.letao.user.entity.User.\n",
    "    Parsed mapper file: 'URL [jar:file:/home/hadoop/letao/letao-0.0.1-SNAPSHOT.jar!/BOOT-INF/classes!/mapper/user/UserMapper.xml]'\n",
    "     _ _   |_  _ _|_. ___ _ |    _ \n",
    "    | | |\\/|_)(_| | |_\\  |_)||_|_\\ \n",
    "         /               |         \n",
    "                            3.3.0 \n",
    "    17:30:40.964 [main] INFO  o.s.s.c.ThreadPoolTaskExecutor -Initializing ExecutorService 'applicationTaskExecutor'\n",
    "    17:30:41.683 [main] INFO  o.a.coyote.http11.Http11NioProtocol -Starting ProtocolHandler [\"http-nio-8081\"]\n",
    "    17:30:41.834 [main] INFO  o.s.b.w.e.tomcat.TomcatWebServer -Tomcat started on port(s): 8081 (http) with context path ''\n",
    "    17:30:41.874 [main] INFO  c.c.c.letao.LetaoApplication -Started LetaoApplication in 8.79 seconds (JVM running for 10.111)\n"
   ]
  },
  {
   "cell_type": "markdown",
   "metadata": {},
   "source": [
    "### 6. Git服务器提交内容\n",
    "   \n",
    "- Java/Python程序源代码\n",
    "- 文档（readme.md）/ 作业 / excel \n",
    "\n",
    "- 不要提交：class/jar/....\n",
    "\n"
   ]
  },
  {
   "cell_type": "code",
   "execution_count": null,
   "metadata": {},
   "outputs": [],
   "source": []
  },
  {
   "cell_type": "code",
   "execution_count": null,
   "metadata": {},
   "outputs": [],
   "source": []
  },
  {
   "cell_type": "code",
   "execution_count": null,
   "metadata": {},
   "outputs": [],
   "source": []
  },
  {
   "cell_type": "code",
   "execution_count": null,
   "metadata": {},
   "outputs": [],
   "source": []
  }
 ],
 "metadata": {
  "kernelspec": {
   "display_name": "Python 3",
   "language": "python",
   "name": "python3"
  },
  "language_info": {
   "codemirror_mode": {
    "name": "ipython",
    "version": 3
   },
   "file_extension": ".py",
   "mimetype": "text/x-python",
   "name": "python",
   "nbconvert_exporter": "python",
   "pygments_lexer": "ipython3",
   "version": "3.8.3"
  }
 },
 "nbformat": 4,
 "nbformat_minor": 4
}
