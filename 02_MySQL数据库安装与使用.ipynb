{
 "cells": [
  {
   "cell_type": "markdown",
   "metadata": {},
   "source": [
    "## MySQL安装与配置\n",
    "\n",
    "### 1. 安装信息\n",
    "- 操作系统：centos8\n",
    "- MySQL版本：8.0.19\n",
    "- 安装方式：rpm\n",
    "\n",
    "### 2. 安装\n",
    "- 上传安装文件到服务器\n",
    "- 使用root用户安装，自动创建mysql用户\n",
    "- 安装MySQL客户端\n",
    "    1. 安装mysql-community-common-8.0.19-1.el8.x86_64.rpm，命令如下：\n",
    "\n",
    "\n"
   ]
  },
  {
   "cell_type": "code",
   "execution_count": 1,
   "metadata": {},
   "outputs": [
    {
     "ename": "SyntaxError",
     "evalue": "invalid syntax (<ipython-input-1-d08222aa82e9>, line 2)",
     "output_type": "error",
     "traceback": [
      "\u001b[1;36m  File \u001b[1;32m\"<ipython-input-1-d08222aa82e9>\"\u001b[1;36m, line \u001b[1;32m2\u001b[0m\n\u001b[1;33m    Verifying...                          ################################# [100%]\u001b[0m\n\u001b[1;37m             ^\u001b[0m\n\u001b[1;31mSyntaxError\u001b[0m\u001b[1;31m:\u001b[0m invalid syntax\n"
     ]
    }
   ],
   "source": [
    "    # rpm -ivh mysql-community-common-8.0.19-1.el8.x86_64.rpm \n",
    "    Verifying...                          ################################# [100%]\n",
    "    准备中...                          ################################# [100%]\n",
    "    正在升级/安装...\n",
    "       1:mysql-community-common-8.0.19-1.e################################# [100%]"
   ]
  },
  {
   "cell_type": "markdown",
   "metadata": {},
   "source": [
    "    2. 安装mysql-community-libs-8.0.19-1.el8.x86_64.rpm，命令如下："
   ]
  },
  {
   "cell_type": "code",
   "execution_count": null,
   "metadata": {},
   "outputs": [],
   "source": [
    "    # rpm -ivh mysql-community-libs-8.0.19-1.el8.x86_64.rpm\n",
    "    警告：mysql-community-libs-8.0.19-1.el8.x86_64.rpm: 头V3 DSA/SHA1 Signature, 密钥 ID 5072e1f5: NOKEY\n",
    "    Verifying...                          ################################# [100%]\n",
    "    准备中...                          ################################# [100%]\n",
    "    正在升级/安装...\n",
    "       1:mysql-community-libs-8.0.19-1.el8################################# [100%]"
   ]
  },
  {
   "cell_type": "markdown",
   "metadata": {},
   "source": [
    "    3. 安装mysql-community-client-8.0.19-1.el8.x86_64.rpm，命令如下：\n",
    "    "
   ]
  },
  {
   "cell_type": "code",
   "execution_count": null,
   "metadata": {},
   "outputs": [],
   "source": [
    "    # rpm -ivh mysql-community-client-8.0.19-1.el8.x86_64.rpm\n",
    "    Verifying...                          ################################# [100%]\n",
    "    准备中...                          ################################# [100%]\n",
    "    正在升级/安装...\n",
    "       1:mysql-community-client-8.0.19-1.e################################# [100%]"
   ]
  },
  {
   "cell_type": "markdown",
   "metadata": {},
   "source": [
    "- 安装MySQL服务器\n",
    "    1. 安装mysql-community-server-8.0.19-1.el8.x86_64.rpm，命令如下：\n",
    "    "
   ]
  },
  {
   "cell_type": "code",
   "execution_count": null,
   "metadata": {},
   "outputs": [],
   "source": [
    "    # rpm -ivh mysql-community-server-8.0.19-1.el8.x86_64.rpm\n",
    "    Verifying...                          ################################# [100%]\n",
    "    准备中...                          ################################# [100%]\n",
    "    正在升级/安装...\n",
    "       1:mysql-community-server-8.0.19-1.e################################# [100%]\n",
    "    [/usr/lib/tmpfiles.d/libstoragemgmt.conf:1] Line references path below legacy directory /var/run/, updating /var/run/lsm → /run/lsm; please update the tmpfiles.d/ drop-in file accordingly.\n",
    "    [/usr/lib/tmpfiles.d/libstoragemgmt.conf:2] Line references path below legacy directory /var/run/, updating /var/run/lsm/ipc → /run/lsm/ipc; please update the tmpfiles.d/ drop-in file accordingly.\n",
    "    [/usr/lib/tmpfiles.d/mdadm.conf:1] Line references path below legacy directory /var/run/, updating /var/run/mdadm → /run/mdadm; please update the tmpfiles.d/ drop-in file accordingly.\n",
    "    [/usr/lib/tmpfiles.d/mysql.conf:23] Line references path below legacy directory /var/run/, updating /var/run/mysqld → /run/mysqld; please update the tmpfiles.d/ drop-in file accordingly.\n",
    "    [/usr/lib/tmpfiles.d/radvd.conf:1] Line references path below legacy directory /var/run/, updating /var/run/radvd → /run/radvd; please update the tmpfiles.d/ drop-in file accordingly.\n",
    "    [/usr/lib/tmpfiles.d/spice-vdagentd.conf:2] Line references path below legacy directory /var/run/, updating /var/run/spice-vdagentd → /run/spice-vdagentd; please update the tmpfiles.d/ drop-in file accordingly."
   ]
  },
  {
   "cell_type": "markdown",
   "metadata": {},
   "source": [
    "- 检查MySQL安装版本，命令如下："
   ]
  },
  {
   "cell_type": "code",
   "execution_count": null,
   "metadata": {},
   "outputs": [],
   "source": [
    "    # mysqladmin --version\n",
    "    mysqladmin  Ver 8.0.19 for Linux on x86_64 (MySQL Community Server - GPL)"
   ]
  },
  {
   "cell_type": "markdown",
   "metadata": {},
   "source": [
    "- MySQL初始化，自动创建root用户的密码，命令如下："
   ]
  },
  {
   "cell_type": "code",
   "execution_count": null,
   "metadata": {},
   "outputs": [],
   "source": [
    "    # mysqld --initialize\n",
    "    "
   ]
  },
  {
   "cell_type": "markdown",
   "metadata": {},
   "source": [
    "- 修改msyql目录的所属用户与组(mysql/mysql), 命令如下："
   ]
  },
  {
   "cell_type": "code",
   "execution_count": null,
   "metadata": {},
   "outputs": [],
   "source": [
    "    # chown -R mysql:mysql /var/lib/mysql/"
   ]
  },
  {
   "cell_type": "markdown",
   "metadata": {},
   "source": [
    "- 检查MySQL进程状态（是否启动），命令如下："
   ]
  },
  {
   "cell_type": "code",
   "execution_count": null,
   "metadata": {},
   "outputs": [],
   "source": [
    "    # systemctl status mysqld\n",
    "    \n",
    "    ● mysqld.service - MySQL Server\n",
    "   Loaded: loaded (/usr/lib/systemd/system/mysqld.service; enabled; vendor preset: disabled)\n",
    "   Active: inactive (dead)\n",
    "     Docs: man:mysqld(8)\n",
    "           http://dev.mysql.com/doc/refman/en/using-systemd.html"
   ]
  },
  {
   "cell_type": "markdown",
   "metadata": {},
   "source": [
    "- 启动MySQL，命令如下："
   ]
  },
  {
   "cell_type": "code",
   "execution_count": null,
   "metadata": {},
   "outputs": [],
   "source": [
    "    # systemctl start mysqld\n",
    "    "
   ]
  },
  {
   "cell_type": "code",
   "execution_count": null,
   "metadata": {},
   "outputs": [],
   "source": [
    "    # systemctl status mysqld\n",
    "    ● mysqld.service - MySQL Server\n",
    "       Loaded: loaded (/usr/lib/systemd/system/mysqld.service; enabled; vendor preset: disabled)\n",
    "       Active: active (running) since Mon 2020-07-06 14:21:14 CST; 7s ago\n",
    "         Docs: man:mysqld(8)\n",
    "               http://dev.mysql.com/doc/refman/en/using-systemd.html\n",
    "      Process: 27561 ExecStartPre=/usr/bin/mysqld_pre_systemd (code=exited, status=0/SUCCESS)\n",
    "     Main PID: 27588 (mysqld)\n",
    "       Status: \"Server is operational\"\n",
    "        Tasks: 39 (limit: 26213)\n",
    "       Memory: 387.1M\n",
    "       CGroup: /system.slice/mysqld.service\n",
    "               └─27588 /usr/sbin/mysqld\n",
    "\n",
    "    7月 06 14:21:07 hadoop systemd[1]: Starting MySQL Server...\n",
    "    7月 06 14:21:14 hadoop systemd[1]: Started MySQL Server."
   ]
  },
  {
   "cell_type": "markdown",
   "metadata": {},
   "source": [
    "- 查看root用户密码，命令如下：\n"
   ]
  },
  {
   "cell_type": "code",
   "execution_count": null,
   "metadata": {},
   "outputs": [],
   "source": [
    "    # cat /var/log/mysqld.log | grep password\n",
    "    \n",
    "    2020-07-06T06:17:18.781061Z 5 [Note] [MY-010454] [Server] A temporary password is generated for root@localhost: O:jm,AIKt6O3"
   ]
  },
  {
   "cell_type": "markdown",
   "metadata": {},
   "source": [
    "    注意：“O:jm,AIKt6O3”就是root用户的密码"
   ]
  },
  {
   "cell_type": "markdown",
   "metadata": {},
   "source": [
    "- MySQL安全配置，命令如下：\n"
   ]
  },
  {
   "cell_type": "code",
   "execution_count": null,
   "metadata": {},
   "outputs": [],
   "source": [
    "    # mysql_secure_installation\n",
    "    Securing the MySQL server deployment.\n",
    "\n",
    "    Enter password for user root: \n",
    "\n",
    "    The existing password for the user account root has expired. Please set a new password.\n",
    "\n",
    "    New password: \n",
    "\n",
    "    Re-enter new password: \n",
    "\n",
    "    VALIDATE PASSWORD COMPONENT can be used to test passwords\n",
    "    and improve security. It checks the strength of password\n",
    "    and allows the users to set only those passwords which are\n",
    "    secure enough. Would you like to setup VALIDATE PASSWORD component?\n",
    "\n",
    "    Press y|Y for Yes, any other key for No: no\n",
    "    Using existing password for root.\n",
    "    Change the password for root ? ((Press y|Y for Yes, any other key for No) : no\n",
    "\n",
    "     ... skipping.\n",
    "    By default, a MySQL installation has an anonymous user,\n",
    "    allowing anyone to log into MySQL without having to have\n",
    "    a user account created for them. This is intended only for\n",
    "    testing, and to make the installation go a bit smoother.\n",
    "    You should remove them before moving into a production\n",
    "    environment.\n",
    "\n",
    "    Remove anonymous users? (Press y|Y for Yes, any other key for No) : y\n",
    "    Success.\n",
    "\n",
    "\n",
    "    Normally, root should only be allowed to connect from\n",
    "    'localhost'. This ensures that someone cannot guess at\n",
    "    the root password from the network.\n",
    "\n",
    "    Disallow root login remotely? (Press y|Y for Yes, any other key for No) : no\n",
    "\n",
    "     ... skipping.\n",
    "    By default, MySQL comes with a database named 'test' that\n",
    "    anyone can access. This is also intended only for testing,\n",
    "    and should be removed before moving into a production\n",
    "    environment.\n",
    "\n",
    "\n",
    "    Remove test database and access to it? (Press y|Y for Yes, any other key for No) : y\n",
    "     - Dropping test database...\n",
    "    Success.\n",
    "\n",
    "     - Removing privileges on test database...\n",
    "    Success.\n",
    "\n",
    "    Reloading the privilege tables will ensure that all changes\n",
    "    made so far will take effect immediately.\n",
    "\n",
    "    Reload privilege tables now? (Press y|Y for Yes, any other key for No) : y\n",
    "    Success.\n",
    "\n",
    "    All done! "
   ]
  },
  {
   "cell_type": "markdown",
   "metadata": {},
   "source": [
    "- 检查使用客户端连接服务器，命令如下：\n"
   ]
  },
  {
   "cell_type": "code",
   "execution_count": null,
   "metadata": {},
   "outputs": [],
   "source": [
    "    # mysql -uroot -p\n",
    "    Enter password: \n",
    "    Welcome to the MySQL monitor.  Commands end with ; or \\g.\n",
    "    Your MySQL connection id is 11\n",
    "    Server version: 8.0.19 MySQL Community Server - GPL\n",
    "\n",
    "    Copyright (c) 2000, 2020, Oracle and/or its affiliates. All rights reserved.\n",
    "\n",
    "    Oracle is a registered trademark of Oracle Corporation and/or its\n",
    "    affiliates. Other names may be trademarks of their respective\n",
    "    owners.\n",
    "\n",
    "    Type 'help;' or '\\h' for help. Type '\\c' to clear the current input statement.\n",
    "\n",
    "    mysql> show databases;\n",
    "    +--------------------+\n",
    "    | Database           |\n",
    "    +--------------------+\n",
    "    | information_schema |\n",
    "    | mysql              |\n",
    "    | performance_schema |\n",
    "    | sys                |\n",
    "    +--------------------+\n",
    "    4 rows in set (0.00 sec)\n",
    "\n",
    "    mysql> \n",
    "    "
   ]
  },
  {
   "cell_type": "markdown",
   "metadata": {},
   "source": [
    "- 设置MySQL数据库root用户的密码，命令如下："
   ]
  },
  {
   "cell_type": "code",
   "execution_count": null,
   "metadata": {},
   "outputs": [],
   "source": [
    "    mysql> use mysql\n",
    "    mysql> update user set authentication_string='' where user = 'root';\n",
    "    mysql> alter user 'root'@'localhost' identified by 'Root@123';"
   ]
  },
  {
   "cell_type": "markdown",
   "metadata": {},
   "source": [
    "- 测试新密码是否生效，命令如下："
   ]
  },
  {
   "cell_type": "code",
   "execution_count": null,
   "metadata": {},
   "outputs": [],
   "source": [
    "    mysql> exit\n",
    "    \n",
    "    # mysql -uroot -p  \n",
    "    Enter password: [输入新设置的密码]\n",
    "    Welcome to the MySQL monitor.  Commands end with ; or \\g.\n",
    "    Your MySQL connection id is 12\n",
    "    Server version: 8.0.19 MySQL Community Server - GPL\n",
    "\n",
    "    Copyright (c) 2000, 2020, Oracle and/or its affiliates. All rights reserved.\n",
    "\n",
    "    Oracle is a registered trademark of Oracle Corporation and/or its\n",
    "    affiliates. Other names may be trademarks of their respective\n",
    "    owners.\n",
    "\n",
    "    Type 'help;' or '\\h' for help. Type '\\c' to clear the current input statement.\n",
    "\n",
    "    mysql> "
   ]
  },
  {
   "cell_type": "markdown",
   "metadata": {},
   "source": [
    "- 开启MySQL远程访问\n",
    "    1. 一般情况下，数据库访问不允许远程，不安全\n",
    "    2. 连接mysql服务器\n",
    "    \n",
    "    \n"
   ]
  },
  {
   "cell_type": "code",
   "execution_count": null,
   "metadata": {},
   "outputs": [],
   "source": [
    "     mysql> use msyql\n",
    "     mysql> select user, host from user;\n",
    "     +------------------+-----------+\n",
    "    | user             | host      |\n",
    "    +------------------+-----------+\n",
    "    | mysql.infoschema | localhost |\n",
    "    | mysql.session    | localhost |\n",
    "    | mysql.sys        | localhost |\n",
    "    | root             | localhost |\n",
    "    +------------------+-----------+\n",
    "    4 rows in set (0.01 sec)"
   ]
  },
  {
   "cell_type": "markdown",
   "metadata": {},
   "source": [
    "    3. 更user表中的localhost为“%”， 命令如下："
   ]
  },
  {
   "cell_type": "code",
   "execution_count": null,
   "metadata": {},
   "outputs": [],
   "source": [
    "    msyql> update user set host='%' where user = 'root';\n",
    "    \n",
    "    "
   ]
  },
  {
   "cell_type": "markdown",
   "metadata": {},
   "source": [
    "    4. root用户授权，命令如下：\n",
    "    "
   ]
  },
  {
   "cell_type": "code",
   "execution_count": null,
   "metadata": {},
   "outputs": [],
   "source": [
    "    msyql> alter user 'root'@'%' identified with mysql_native_password by 'Root@123';\n",
    "    mysql> flush privileges;"
   ]
  },
  {
   "cell_type": "markdown",
   "metadata": {},
   "source": [
    "- 测试远程连接是否开启，命令如下："
   ]
  },
  {
   "cell_type": "code",
   "execution_count": null,
   "metadata": {},
   "outputs": [],
   "source": [
    "    $ mysql -h192.168.1.103 -uroot -p\n",
    "    "
   ]
  },
  {
   "cell_type": "markdown",
   "metadata": {},
   "source": [
    "- 数据库客户端工具测试\n",
    "    1. Navicat\n",
    "    2. DataGrip\n",
    "    3. HeidiSQL(开源)\n",
    "    4. MySQL官方工具"
   ]
  },
  {
   "cell_type": "markdown",
   "metadata": {},
   "source": [
    "- MySQL存储引擎\n",
    "    1. MyISAM：不支持事务，查询速度快\n",
    "    2. InnoDB：默认存储引擎，全事务支持引擎\n",
    "    4. Memory：内存存储引擎，速度太快"
   ]
  },
  {
   "cell_type": "markdown",
   "metadata": {},
   "source": [
    "- 导入SQL脚本，命令如下："
   ]
  },
  {
   "cell_type": "code",
   "execution_count": null,
   "metadata": {},
   "outputs": [],
   "source": [
    "    mysql> create database world;\n",
    "    mysql> use world\n",
    "    mysql> source /root/tools/MySQL-8.0.19/world.sql\n",
    "    msyql> show tables;\n",
    "    "
   ]
  },
  {
   "cell_type": "code",
   "execution_count": null,
   "metadata": {},
   "outputs": [],
   "source": [
    "    mysql> show create table city\\G\n",
    "    *************************** 1. row ***************************\n",
    "           Table: city\n",
    "    Create Table: CREATE TABLE `city` (\n",
    "      `ID` int NOT NULL AUTO_INCREMENT,\n",
    "      `Name` varchar(40) NOT NULL DEFAULT '',\n",
    "      `CountryCode` varchar(5) NOT NULL DEFAULT '',\n",
    "      `District` varchar(30) NOT NULL DEFAULT '',\n",
    "      `Population` int NOT NULL DEFAULT '0',\n",
    "      PRIMARY KEY (`ID`)\n",
    "    ) ENGINE=MyISAM AUTO_INCREMENT=4080 DEFAULT CHARSET=utf8mb4 COLLATE=utf8mb4_0900_ai_ci\n",
    "    1 row in set (0.00 sec)\n",
    "\n",
    "    mysql> "
   ]
  },
  {
   "cell_type": "code",
   "execution_count": null,
   "metadata": {},
   "outputs": [],
   "source": []
  },
  {
   "cell_type": "code",
   "execution_count": null,
   "metadata": {},
   "outputs": [],
   "source": []
  },
  {
   "cell_type": "code",
   "execution_count": null,
   "metadata": {},
   "outputs": [],
   "source": []
  },
  {
   "cell_type": "code",
   "execution_count": null,
   "metadata": {},
   "outputs": [],
   "source": []
  },
  {
   "cell_type": "code",
   "execution_count": null,
   "metadata": {},
   "outputs": [],
   "source": []
  },
  {
   "cell_type": "code",
   "execution_count": null,
   "metadata": {},
   "outputs": [],
   "source": []
  }
 ],
 "metadata": {
  "kernelspec": {
   "display_name": "Python 3",
   "language": "python",
   "name": "python3"
  },
  "language_info": {
   "codemirror_mode": {
    "name": "ipython",
    "version": 3
   },
   "file_extension": ".py",
   "mimetype": "text/x-python",
   "name": "python",
   "nbconvert_exporter": "python",
   "pygments_lexer": "ipython3",
   "version": "3.8.3"
  }
 },
 "nbformat": 4,
 "nbformat_minor": 4
}
