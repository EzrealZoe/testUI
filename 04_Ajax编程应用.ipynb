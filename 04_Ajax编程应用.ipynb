{
 "cells": [
  {
   "cell_type": "markdown",
   "metadata": {},
   "source": [
    "# 一、Ajax编程应用\n",
    "### 1. 复习\n",
    "\n",
    "- Linux操作系统：centos8\n",
    "    1. root用户密码：root\n",
    "    2. hadoop用户密码： hadoop\n",
    "    3. MySQL数据库，root用户密码：Root@123（小写字母+大写字母+数字+特殊字符+>=8个字符）\n",
    "    4. MySQL数据库root用户配置了远程访问，不推荐\n",
    "    5. JDK，1.8，环境变量：hadoop用户下；source .bash_profile;  chown -R hadoop:hadoop  /usr/jdk1.8.0_231/\n",
    "    \n",
    "- IDEA搭建企业开发环境\n",
    "    1. IDEA工具：注册用户/试用版本(30天)\n",
    "    2. maven构建工具\n",
    "    3. SpringBoot+Druid+MyBatis Plus， pom.xml, 依赖, .m2.zip\n",
    "    \n",
    "    \n",
    "    "
   ]
  },
  {
   "cell_type": "markdown",
   "metadata": {},
   "source": [
    "### 2. Ajax异步请求\n",
    "\n",
    "- 前后端分离\n",
    "\n",
    "    1. 发送异步请求获取接口数据（Vue/axios）\n",
    "    2. 请求跨域问题\n",
    "    3. 解决方案：@CrossOrigin\n",
    "\n",
    "\n",
    "- 部署服务器\n",
    "    1. 前端部署，nginx\n",
    "    2. 后端接口服务，nohup java -jar xxx.jar &\n",
    "    \n",
    "    \n"
   ]
  },
  {
   "cell_type": "markdown",
   "metadata": {},
   "source": [
    "### 3. Nginx服务器\n",
    "\n",
    "- 高性能web服务器：部署html/js/css/img/mp4...., web站点\n",
    "- 反向代理服务器：负载均衡\n",
    "- IMTP/POP3/SMTP代理服务器\n",
    "\n",
    "- 安装\n",
    "    1. 安装文件：下载， 1.16.1\n",
    "    2. centos8安装相关依赖包\n",
    "    3. yum安装\n"
   ]
  },
  {
   "cell_type": "code",
   "execution_count": null,
   "metadata": {},
   "outputs": [],
   "source": [
    "        # yum install -y nginx\n",
    "    \n",
    "        CentOS-8 - AppStream                                                                                                                   1.2 kB/s | 4.3 kB     00:03    \n",
    "        CentOS-8 - Base                                                                                                                        1.5 kB/s | 3.9 kB     00:02    \n",
    "        CentOS-8 - Extras                                                                                                                      567  B/s | 1.5 kB     00:02    \n",
    "        依赖关系解决。\n",
    "        =======================================================================================================================================================================\n",
    "         软件包                                         架构                      版本                                                      仓库                          大小\n",
    "        =======================================================================================================================================================================\n",
    "        Installing:\n",
    "         nginx                                          x86_64                    1:1.14.1-9.module_el8.0.0+184+e34fea82                    AppStream                    570 k\n",
    "        安装依赖关系:\n",
    "         nginx-all-modules                              noarch                    1:1.14.1-9.module_el8.0.0+184+e34fea82                    AppStream                     23 k\n",
    "         nginx-filesystem                               noarch                    1:1.14.1-9.module_el8.0.0+184+e34fea82                    AppStream                     24 k\n",
    "         nginx-mod-http-image-filter                    x86_64                    1:1.14.1-9.module_el8.0.0+184+e34fea82                    AppStream                     35 k\n",
    "         nginx-mod-http-perl                            x86_64                    1:1.14.1-9.module_el8.0.0+184+e34fea82                    AppStream                     45 k\n",
    "         nginx-mod-http-xslt-filter                     x86_64                    1:1.14.1-9.module_el8.0.0+184+e34fea82                    AppStream                     33 k\n",
    "         nginx-mod-mail                                 x86_64                    1:1.14.1-9.module_el8.0.0+184+e34fea82                    AppStream                     64 k\n",
    "         nginx-mod-stream                               x86_64                    1:1.14.1-9.module_el8.0.0+184+e34fea82                    AppStream                     85 k\n",
    "        Enabling module streams:\n",
    "         nginx                                                                    1.14                                                                                        \n",
    "\n",
    "        事务概要\n",
    "        =======================================================================================================================================================================\n",
    "        安装  8 软件包\n",
    "\n",
    "        总下载：881 k\n",
    "        安装大小：2.0 M\n",
    "        下载软件包：\n",
    "        (1/8): nginx-filesystem-1.14.1-9.module_el8.0.0+184+e34fea82.noarch.rpm                                                                112 kB/s |  24 kB     00:00    \n",
    "        (2/8): nginx-all-modules-1.14.1-9.module_el8.0.0+184+e34fea82.noarch.rpm                                                               108 kB/s |  23 kB     00:00    \n",
    "        (3/8): nginx-mod-http-image-filter-1.14.1-9.module_el8.0.0+184+e34fea82.x86_64.rpm                                                     154 kB/s |  35 kB     00:00    \n",
    "        (4/8): nginx-mod-http-perl-1.14.1-9.module_el8.0.0+184+e34fea82.x86_64.rpm                                                             173 kB/s |  45 kB     00:00    \n",
    "        (5/8): nginx-mod-http-xslt-filter-1.14.1-9.module_el8.0.0+184+e34fea82.x86_64.rpm                                                      166 kB/s |  33 kB     00:00    \n",
    "        (6/8): nginx-mod-mail-1.14.1-9.module_el8.0.0+184+e34fea82.x86_64.rpm                                                                  167 kB/s |  64 kB     00:00    \n",
    "        (7/8): nginx-mod-stream-1.14.1-9.module_el8.0.0+184+e34fea82.x86_64.rpm                                                                198 kB/s |  85 kB     00:00    \n",
    "        (8/8): nginx-1.14.1-9.module_el8.0.0+184+e34fea82.x86_64.rpm                                                                           326 kB/s | 570 kB     00:01    \n",
    "        -----------------------------------------------------------------------------------------------------------------------------------------------------------------------\n",
    "        总计                                                                                                                                   276 kB/s | 881 kB     00:03     \n",
    "        警告：/var/cache/dnf/AppStream-a520ed22b0a8a736/packages/nginx-1.14.1-9.module_el8.0.0+184+e34fea82.x86_64.rpm: 头V3 RSA/SHA256 Signature, 密钥 ID 8483c65d: NOKEY\n",
    "        CentOS-8 - AppStream                                                                                                                   1.6 MB/s | 1.6 kB     00:00    \n",
    "        导入 GPG 公钥 0x8483C65D:\n",
    "         Userid: \"CentOS (CentOS Official Signing Key) <security@centos.org>\"\n",
    "         指纹: 99DB 70FA E1D7 CE22 7FB6 4882 05B5 55B3 8483 C65D\n",
    "         来自: /etc/pki/rpm-gpg/RPM-GPG-KEY-centosofficial\n",
    "        导入公钥成功\n",
    "        运行事务检查\n",
    "        事务检查成功。\n",
    "        运行事务测试\n",
    "        事务测试成功。\n",
    "        运行事务\n",
    "          准备中      :                                                                                                                                                    1/1 \n",
    "          运行脚本    : nginx-filesystem-1:1.14.1-9.module_el8.0.0+184+e34fea82.noarch                                                                                     1/8 \n",
    "          Installing  : nginx-filesystem-1:1.14.1-9.module_el8.0.0+184+e34fea82.noarch                                                                                     1/8 \n",
    "          Installing  : nginx-mod-http-image-filter-1:1.14.1-9.module_el8.0.0+184+e34fea82.x86_64                                                                          2/8 \n",
    "          运行脚本    : nginx-mod-http-image-filter-1:1.14.1-9.module_el8.0.0+184+e34fea82.x86_64                                                                          2/8 \n",
    "          Installing  : nginx-mod-http-perl-1:1.14.1-9.module_el8.0.0+184+e34fea82.x86_64                                                                                  3/8 \n",
    "          运行脚本    : nginx-mod-http-perl-1:1.14.1-9.module_el8.0.0+184+e34fea82.x86_64                                                                                  3/8 \n",
    "          Installing  : nginx-mod-http-xslt-filter-1:1.14.1-9.module_el8.0.0+184+e34fea82.x86_64                                                                           4/8 \n",
    "          运行脚本    : nginx-mod-http-xslt-filter-1:1.14.1-9.module_el8.0.0+184+e34fea82.x86_64                                                                           4/8 \n",
    "          Installing  : nginx-mod-mail-1:1.14.1-9.module_el8.0.0+184+e34fea82.x86_64                                                                                       5/8 \n",
    "          运行脚本    : nginx-mod-mail-1:1.14.1-9.module_el8.0.0+184+e34fea82.x86_64                                                                                       5/8 \n",
    "          Installing  : nginx-all-modules-1:1.14.1-9.module_el8.0.0+184+e34fea82.noarch                                                                                    6/8 \n",
    "          Installing  : nginx-1:1.14.1-9.module_el8.0.0+184+e34fea82.x86_64                                                                                                7/8 \n",
    "          运行脚本    : nginx-1:1.14.1-9.module_el8.0.0+184+e34fea82.x86_64                                                                                                7/8 \n",
    "          Installing  : nginx-mod-stream-1:1.14.1-9.module_el8.0.0+184+e34fea82.x86_64                                                                                     8/8 \n",
    "          运行脚本    : nginx-mod-stream-1:1.14.1-9.module_el8.0.0+184+e34fea82.x86_64                                                                                     8/8 \n",
    "          验证        : nginx-1:1.14.1-9.module_el8.0.0+184+e34fea82.x86_64                                                                                                1/8 \n",
    "          验证        : nginx-all-modules-1:1.14.1-9.module_el8.0.0+184+e34fea82.noarch                                                                                    2/8 \n",
    "          验证        : nginx-filesystem-1:1.14.1-9.module_el8.0.0+184+e34fea82.noarch                                                                                     3/8 \n",
    "          验证        : nginx-mod-http-image-filter-1:1.14.1-9.module_el8.0.0+184+e34fea82.x86_64                                                                          4/8 \n",
    "          验证        : nginx-mod-http-perl-1:1.14.1-9.module_el8.0.0+184+e34fea82.x86_64                                                                                  5/8 \n",
    "          验证        : nginx-mod-http-xslt-filter-1:1.14.1-9.module_el8.0.0+184+e34fea82.x86_64                                                                           6/8 \n",
    "          验证        : nginx-mod-mail-1:1.14.1-9.module_el8.0.0+184+e34fea82.x86_64                                                                                       7/8 \n",
    "          验证        : nginx-mod-stream-1:1.14.1-9.module_el8.0.0+184+e34fea82.x86_64                                                                                     8/8 \n",
    "\n",
    "        已安装:\n",
    "          nginx-1:1.14.1-9.module_el8.0.0+184+e34fea82.x86_64                            nginx-all-modules-1:1.14.1-9.module_el8.0.0+184+e34fea82.noarch                       \n",
    "          nginx-filesystem-1:1.14.1-9.module_el8.0.0+184+e34fea82.noarch                 nginx-mod-http-image-filter-1:1.14.1-9.module_el8.0.0+184+e34fea82.x86_64             \n",
    "          nginx-mod-http-perl-1:1.14.1-9.module_el8.0.0+184+e34fea82.x86_64              nginx-mod-http-xslt-filter-1:1.14.1-9.module_el8.0.0+184+e34fea82.x86_64              \n",
    "          nginx-mod-mail-1:1.14.1-9.module_el8.0.0+184+e34fea82.x86_64                   nginx-mod-stream-1:1.14.1-9.module_el8.0.0+184+e34fea82.x86_64                        \n",
    "\n",
    "        完毕！"
   ]
  },
  {
   "cell_type": "markdown",
   "metadata": {},
   "source": [
    "    3. nginx相关配置文件， /etc/nginx/nginx.conf"
   ]
  },
  {
   "cell_type": "code",
   "execution_count": null,
   "metadata": {},
   "outputs": [],
   "source": [
    "     38     server {\n",
    "     39         listen       80 default_server;\n",
    "     40         listen       [::]:80 default_server;\n",
    "     41         server_name  _;\n",
    "     42         root         /usr/share/nginx/html;\n",
    "     43 \n",
    "     44         # Load configuration files for the default server block.\n",
    "     45         include /etc/nginx/default.d/*.conf;\n",
    "     46 \n",
    "     47         location / {\n",
    "     48         }\n",
    "     49 \n",
    "     50         error_page 404 /404.html;\n",
    "     51             location = /40x.html {\n",
    "     52         }\n",
    "     53 \n",
    "     54         error_page 500 502 503 504 /50x.html;\n",
    "     55             location = /50x.html {\n",
    "     56         }\n",
    "     57     }"
   ]
  },
  {
   "cell_type": "markdown",
   "metadata": {},
   "source": [
    "    4. 部署目录位置/usr/share/nginx/html"
   ]
  },
  {
   "cell_type": "markdown",
   "metadata": {},
   "source": [
    "    5. 查看nginx服务是否启动，命令如下："
   ]
  },
  {
   "cell_type": "code",
   "execution_count": null,
   "metadata": {},
   "outputs": [],
   "source": [
    "    # netstat -anp | grep 80\n",
    "    \n",
    "    # ps -el | grep nginx"
   ]
  },
  {
   "cell_type": "markdown",
   "metadata": {},
   "source": [
    "    6. 启动nginx服务，命令如下："
   ]
  },
  {
   "cell_type": "code",
   "execution_count": 2,
   "metadata": {},
   "outputs": [],
   "source": [
    "    # nginx\n",
    "    \n",
    "    # ps -el | grep nginx"
   ]
  },
  {
   "attachments": {
    "image.png": {
     "image/png": "[encoded data removed]"
    }
   },
   "cell_type": "markdown",
   "metadata": {},
   "source": [
    "    7. 发送请求访问首页（index.html），http://192.168.1.103\n",
    "    \n",
    "    \n",
    "![image.png](attachment:image.png)"
   ]
  },
  {
   "attachments": {
    "image.png": {
     "image/png": "[encoded data removed]"
    }
   },
   "cell_type": "markdown",
   "metadata": {},
   "source": [
    "    8. 上传pie.html(/usr/share/nginx/html), http://192.168.1.103/pie.html\n",
    "    \n",
    "![image.png](attachment:image.png)"
   ]
  },
  {
   "cell_type": "markdown",
   "metadata": {},
   "source": [
    "    9.接口服务程序部署并启动，命令如下："
   ]
  },
  {
   "cell_type": "code",
   "execution_count": null,
   "metadata": {},
   "outputs": [],
   "source": [
    "        $ nohup java -jar  letao-0.0.1-SNAPSHOT.jar  &"
   ]
  },
  {
   "cell_type": "markdown",
   "metadata": {},
   "source": [
    "    10. 杀服务，命令如下：\n",
    "    "
   ]
  },
  {
   "cell_type": "code",
   "execution_count": null,
   "metadata": {},
   "outputs": [],
   "source": [
    "    $ netstat -anp | grep 8081\n",
    "    \n",
    "    tcp6       0      0 :::8081                 :::*                    LISTEN      9785/java  \n",
    "                            \n",
    "                            \n",
    "    $ kill -9 9785\n",
    "    \n",
    "    "
   ]
  },
  {
   "cell_type": "markdown",
   "metadata": {},
   "source": [
    "# 二、搭建hadoop分布式环境\n",
    "### 1. 安装环境\n",
    "\n",
    "- 系统：centos8\n",
    "- JDK：1.8_231\n",
    "- hadoop: 3.2.1\n",
    "\n",
    "### 2. 主机准备\n",
    "\n",
    "- 主机名： hadoop\n",
    "- vi /etc/hostname\n",
    "- 主机名与IP地址映射： /etc/hosts\n"
   ]
  },
  {
   "cell_type": "code",
   "execution_count": null,
   "metadata": {},
   "outputs": [],
   "source": [
    "    # vi /etc/hosts\n",
    "    \n",
    "    IP地址   hadoop"
   ]
  },
  {
   "cell_type": "markdown",
   "metadata": {},
   "source": [
    "- 防火墙关闭\n"
   ]
  },
  {
   "cell_type": "code",
   "execution_count": null,
   "metadata": {},
   "outputs": [],
   "source": [
    "    # systemctl status firewalld"
   ]
  },
  {
   "cell_type": "markdown",
   "metadata": {},
   "source": [
    "- 创建hadoop用户，命令如下："
   ]
  },
  {
   "cell_type": "code",
   "execution_count": null,
   "metadata": {},
   "outputs": [],
   "source": [
    "    # useradd hadoop\n",
    "    # passwd hadoop \n",
    "    \n",
    "    输入2遍【hadoop】"
   ]
  },
  {
   "cell_type": "markdown",
   "metadata": {},
   "source": [
    "- hadoop用户环境变量，配置JDK； /home/hadoop/.bash_profile\n",
    "\n"
   ]
  },
  {
   "cell_type": "markdown",
   "metadata": {},
   "source": [
    "### 3. 安装hadoop\n",
    "\n",
    "- 配置hadoop用户的免密码登录（ssh）\n",
    "\n"
   ]
  },
  {
   "cell_type": "code",
   "execution_count": null,
   "metadata": {},
   "outputs": [],
   "source": [
    "    $ cd ~\n",
    "    \n",
    "    $ ssh-keygen -t rsa  [一路回车]\n",
    "    Generating public/private rsa key pair.\n",
    "    Enter file in which to save the key (/home/hadoop/.ssh/id_rsa): \n",
    "    Enter passphrase (empty for no passphrase): \n",
    "    Enter same passphrase again: \n",
    "    Your identification has been saved in /home/hadoop/.ssh/id_rsa.\n",
    "    Your public key has been saved in /home/hadoop/.ssh/id_rsa.pub.\n",
    "    The key fingerprint is:\n",
    "    SHA256:rHZD+W4NlnaUpIxIQ0Z4BQopVRv+8R7plMZNysmiOUg hadoop@hadoop\n",
    "    The key's randomart image is:\n",
    "    +---[RSA 2048]----+\n",
    "    | .ooo+=o.        |\n",
    "    |. .o.=+     .    |\n",
    "    | .  +o.o o.o .   |\n",
    "    |     ..B.Oo o    |\n",
    "    |  E   o S .o     |\n",
    "    | . . o O o= .    |\n",
    "    |  . + o =o.+     |\n",
    "    |     o . o. .    |\n",
    "    |         ..      |\n",
    "    +----[SHA256]-----+\n",
    "    \n",
    "    $ cd .ssh\n",
    "    $ cat id_rsa.pub >> authorized_keys\n",
    "    $ chmod 600 authorized_keys\n",
    "    $ chmod 700 ~/.ssh"
   ]
  },
  {
   "cell_type": "markdown",
   "metadata": {},
   "source": [
    "- 验证面密登录配置是否成功，命令："
   ]
  },
  {
   "cell_type": "code",
   "execution_count": null,
   "metadata": {},
   "outputs": [],
   "source": [
    "    $ ssh hadoop\n",
    "    \n",
    "    $ exit\n",
    "    "
   ]
  },
  {
   "cell_type": "markdown",
   "metadata": {},
   "source": [
    "- 上传安装文件到指定目录，/home/hadoop/tools"
   ]
  },
  {
   "cell_type": "markdown",
   "metadata": {},
   "source": [
    "- 解压tar.gz文件，并移动解压后的目录到指定位置，/usr/, 命令如下："
   ]
  },
  {
   "cell_type": "code",
   "execution_count": null,
   "metadata": {},
   "outputs": [],
   "source": [
    "    $ tar zxvf hadoop-3.2.1.tar.gz\n",
    "    \n",
    "    $ ll\n",
    "    \n",
    "    总用量 540384\n",
    "    drwxr-xr-x. 9 hadoop hadoop       149 9月  11 2019 hadoop-3.2.1\n",
    "    -rwxrwxr-x. 1 hadoop hadoop 359196911 7月   7 11:19 hadoop-3.2.1.tar.gz\n",
    "        \n",
    "    $ exit\n",
    "    \n",
    "    # mv /home/hadoop/tools/hadoop-3.2.1 /usr/\n",
    "    \n",
    "    $ su - hadoop\n",
    "    "
   ]
  },
  {
   "cell_type": "markdown",
   "metadata": {},
   "source": [
    "- hadoop环境变量配置，~/.bash_profile, 命令如下：\n"
   ]
  },
  {
   "cell_type": "code",
   "execution_count": null,
   "metadata": {},
   "outputs": [],
   "source": [
    "    $ vi ~/.bash_profile\n",
    "    \n",
    "    JAVA_HOME=/usr/jdk1.8.0_231\n",
    "    HADOOP_HOME=/usr/hadoop-3.2.1\n",
    "    PATH=$HADOOP_HOME/bin:$HADOOP_HOME/sbin:$JAVA_HOME/bin:$PATH\n",
    "\n",
    "    export JAVA_HOME\n",
    "    export HADOOP_HOME\n",
    "    export PATH\n",
    "    \n",
    "    $ source .bash_profile"
   ]
  },
  {
   "cell_type": "markdown",
   "metadata": {},
   "source": [
    "- hadoop的基本配置文件，hadoop-env.sh, 具体配置如下："
   ]
  },
  {
   "cell_type": "code",
   "execution_count": null,
   "metadata": {},
   "outputs": [],
   "source": [
    "    $ cd /usr/hadoop-3.2.1/etc/hadoop\n",
    "    \n",
    "    $ vi hadoop-env.sh\n",
    "    \n",
    "    54 export JAVA_HOME=/usr/jdk1.8.0_231"
   ]
  },
  {
   "cell_type": "markdown",
   "metadata": {},
   "source": [
    "- 测试基本配置是否完成，命令如下："
   ]
  },
  {
   "cell_type": "code",
   "execution_count": null,
   "metadata": {},
   "outputs": [],
   "source": [
    "    $ hadoop version\n",
    "    Hadoop 3.2.1\n",
    "    Source code repository https://gitbox.apache.org/repos/asf/hadoop.git -r b3cbbb467e22ea829b3808f4b7b01d07e0bf3842\n",
    "    Compiled by rohithsharmaks on 2019-09-10T15:56Z\n",
    "    Compiled with protoc 2.5.0\n",
    "    From source with checksum 776eaf9eee9c0ffc370bcbc1888737\n",
    "    This command was run using /usr/hadoop-3.2.1/share/hadoop/common/hadoop-common-3.2.1.jar"
   ]
  },
  {
   "cell_type": "markdown",
   "metadata": {},
   "source": [
    "- 准备目录，/usr/local/hadoop,用于job执行的临时文件目录，和数据存储\n"
   ]
  },
  {
   "cell_type": "code",
   "execution_count": null,
   "metadata": {},
   "outputs": [],
   "source": [
    "    # cd /usr/local\n",
    "    # mkdir hadoop\n",
    "    # chown -R hadoop:hadoop hadoop"
   ]
  },
  {
   "cell_type": "markdown",
   "metadata": {},
   "source": [
    "- 核心配置（1）core-site.xml, $HADOOP_HOME/etc/hadoop/core-site.xml, 具体配置内容：\n"
   ]
  },
  {
   "cell_type": "code",
   "execution_count": null,
   "metadata": {},
   "outputs": [],
   "source": [
    "    $ vi /usr/hadoop-3.2.1/etc/hadoop/core-site.xml \n",
    "    \n",
    "    <configuration>\n",
    "    <!-- 指定HDFS路径地址，hadoop是与IP映射的主机名，9000是端口号 -->\n",
    "    <property>\n",
    "        <name>fs.defaultFS</name>\n",
    "        <value>hdfs://hadoop:9000</value>\n",
    "    </property>\n",
    "\n",
    "    <!-- 指定hadoop运行过程中产生的文件存储目录 -->\n",
    "    <property>\n",
    "        <name>hadoop.tmp.dir</name>\n",
    "        <value>/usr/local/hadoop/tmp</value>\n",
    "    </property>\n",
    "    </configuration>"
   ]
  },
  {
   "cell_type": "markdown",
   "metadata": {},
   "source": [
    "- 核心配置（2）hdfs-site.xml,$HADOOP_HOME/etc/hadoop目录下，具体配置："
   ]
  },
  {
   "cell_type": "code",
   "execution_count": null,
   "metadata": {},
   "outputs": [],
   "source": [
    "<!-- 文件存储在hdfs上的副本数量-->\n",
    "<property>\n",
    "    <name>dfs.replication</name>\n",
    "    <value>1</value>\n",
    "</property>\n",
    "<!-- hdfs web监听端口-->\n",
    "<property>\n",
    "    <name>dfs.namenode.http-address</name>\n",
    "    <value>hadoop:9870</value>\n",
    "</property>\n",
    "\n",
    "\n",
    "<!-- namenode数据存储路径 -->\n",
    "<property>\n",
    "    <name>dfs.namenode.name.dir</name>\n",
    "    <value>/usr/local/hadoop/dfs/name</value>\n",
    "</property>\n",
    "\n",
    "<!-- datanode数据存储路径 -->\n",
    "<property>\n",
    "    <name>dfs.datanode.data.dir</name>\n",
    "    <value>/usr/local/hadoop/dfs/data</value>\n",
    "</property>"
   ]
  },
  {
   "cell_type": "markdown",
   "metadata": {},
   "source": [
    "- 核心配置（3）mapred-site.xml,具体配置："
   ]
  },
  {
   "cell_type": "code",
   "execution_count": null,
   "metadata": {},
   "outputs": [],
   "source": [
    "<property>\n",
    "    <name>mapreduce.framework.name</name>\n",
    "    <value>yarn</value>\n",
    "</property>\n",
    "\n",
    "<property>\n",
    "    <name>mapreduce.application.classpath</name>\n",
    "    <value>\n",
    "    /usr/hadoop-3.2.1/etc/hadoop:/usr/hadoop-3.2.1/share/hadoop/common/lib/*:/usr/hadoop-3.2.1/share/hadoop/common/*:/usr/hadoop-3.2.1/share/hadoop/hdfs:/usr/hadoop-3.2.1/share/hadoop/hdfs/lib/*:/usr/hadoop-3.2.1/share/hadoop/hdfs/*:/usr/hadoop-3.2.1/share/hadoop/mapreduce/lib/*:/usr/hadoop-3.2.1/share/hadoop/mapreduce/*:/usr/hadoop-3.2.1/share/hadoop/yarn:/usr/hadoop-3.2.1/share/hadoop/yarn/lib/*:/usr/hadoop-3.2.1/share/hadoop/yarn/*\n",
    "    </value>\n",
    "</property>"
   ]
  },
  {
   "cell_type": "markdown",
   "metadata": {},
   "source": [
    "- 核心配置（4）yarn-site.xml, 具体配置："
   ]
  },
  {
   "cell_type": "code",
   "execution_count": null,
   "metadata": {},
   "outputs": [],
   "source": [
    "<property>\n",
    "    <name>yarn.resourcemanager.hostname</name>\n",
    "    <value>hadoop</value>\n",
    "</property>\n",
    "<property>\n",
    "    <name>yarn.nodemanager.aux-services</name>\n",
    "    <value>mapreduce_shuffle</value>\n",
    "</property>\n",
    "<property>\n",
    "    <name>mapreduce.application.classpath</name>\n",
    "    <value>\n",
    "    /usr/hadoop-3.2.1/etc/hadoop:/usr/hadoop-3.2.1/share/hadoop/common/lib/*:/usr/hadoop-3.2.1/share/hadoop/common/*:/usr/hadoop-3.2.1/share/hadoop/hdfs:/usr/hadoop-3.2.1/share/hadoop/hdfs/lib/*:/usr/hadoop-3.2.1/share/hadoop/hdfs/*:/usr/hadoop-3.2.1/share/hadoop/mapreduce/lib/*:/usr/hadoop-3.2.1/share/hadoop/mapreduce/*:/usr/hadoop-3.2.1/share/hadoop/yarn:/usr/hadoop-3.2.1/share/hadoop/yarn/lib/*:/usr/hadoop-3.2.1/share/hadoop/yarn/*\n",
    "    </value>\n",
    "</property>"
   ]
  },
  {
   "cell_type": "markdown",
   "metadata": {},
   "source": [
    "- 核心配置（5）workers，具体配置："
   ]
  },
  {
   "cell_type": "code",
   "execution_count": null,
   "metadata": {},
   "outputs": [],
   "source": [
    "    hadoop"
   ]
  },
  {
   "cell_type": "markdown",
   "metadata": {},
   "source": [
    "### 4. 启动hadoop集群（伪分布式）\n",
    "\n",
    "- 首次启动hadoop，必须namenode格式化，命令如下："
   ]
  },
  {
   "cell_type": "code",
   "execution_count": null,
   "metadata": {},
   "outputs": [],
   "source": [
    "    $ hdfs namenode -format\n",
    "    \n",
    "    2020-07-07 14:25:59,234 INFO common.Storage: Storage directory /usr/local/hadoop/dfs/name has been successfully formatted."
   ]
  },
  {
   "cell_type": "markdown",
   "metadata": {},
   "source": [
    "- 启动两个服务（HDFS、yarn），命令如下：\n"
   ]
  },
  {
   "cell_type": "code",
   "execution_count": null,
   "metadata": {},
   "outputs": [],
   "source": [
    "    $ start-dfs.sh\n",
    "    \n",
    "    $ start-yarn.sh\n",
    "    \n",
    "    $ jps\n",
    "    \n",
    "    14337 Jps\n",
    "    11608 jar\n",
    "    13610 SecondaryNameNode\n",
    "    13867 ResourceManager\n",
    "    13388 DataNode\n",
    "    13261 NameNode\n",
    "    13997 NodeManager\n",
    "    "
   ]
  },
  {
   "cell_type": "markdown",
   "metadata": {},
   "source": [
    "- HDFS管理命令\n",
    "\n",
    "    1. hdfs安全模式查看\n",
    "    "
   ]
  },
  {
   "cell_type": "code",
   "execution_count": null,
   "metadata": {},
   "outputs": [],
   "source": [
    "        $ hdfs dfsadmin -safemode get\n",
    "    \n",
    "        Safe mode is OFF"
   ]
  },
  {
   "cell_type": "markdown",
   "metadata": {},
   "source": [
    "        注意：Safe mode is OFF，说明HDFS安全模式已经关闭，实现对数据的读写操作"
   ]
  },
  {
   "cell_type": "markdown",
   "metadata": {},
   "source": [
    "    2. 查看根目录结构，命令如下："
   ]
  },
  {
   "cell_type": "code",
   "execution_count": null,
   "metadata": {},
   "outputs": [],
   "source": [
    "    $ hdfs dfs -ls /"
   ]
  },
  {
   "cell_type": "markdown",
   "metadata": {},
   "source": [
    "    3. 创建目录，命令如下：\n",
    "    "
   ]
  },
  {
   "cell_type": "code",
   "execution_count": null,
   "metadata": {},
   "outputs": [],
   "source": [
    "    $ hdfs dfs -mkdir /data\n",
    "    \n",
    "    $ hdfs dfs -ls /"
   ]
  },
  {
   "cell_type": "markdown",
   "metadata": {},
   "source": [
    "    4. 递归创建目录，命令如下："
   ]
  },
  {
   "cell_type": "code",
   "execution_count": null,
   "metadata": {},
   "outputs": [],
   "source": [
    "    $ hdfs dfs -mkdir -p /data/subdata/input\n",
    "    \n",
    "    $ hdfs dfs -ls -R /"
   ]
  },
  {
   "cell_type": "markdown",
   "metadata": {},
   "source": [
    "    5. 上传本地文件到hdfs指定目录，命令如下："
   ]
  },
  {
   "cell_type": "code",
   "execution_count": null,
   "metadata": {},
   "outputs": [],
   "source": [
    "    $ hdfs dfs -put jdk-8u231-linux-x64.tar.gz /data/\n",
    "    \n",
    "    $ hdfs dfs -ls /data\n",
    "    "
   ]
  },
  {
   "cell_type": "markdown",
   "metadata": {},
   "source": [
    "    6. 下载hdfs数据文件到本地操作系统，命令如下：\n",
    "    "
   ]
  },
  {
   "cell_type": "code",
   "execution_count": null,
   "metadata": {},
   "outputs": [],
   "source": [
    "    $ hdfs dfs -get /data/jdk-8u231-linux-x64.tar.gz ./\n",
    "    \n",
    "    $ ll\n",
    "    "
   ]
  },
  {
   "cell_type": "markdown",
   "metadata": {},
   "source": [
    "    7. 复制文件，命令如下："
   ]
  },
  {
   "cell_type": "code",
   "execution_count": null,
   "metadata": {},
   "outputs": [],
   "source": [
    "    $ hdfs dfs -cp /data/jdk-8u231-linux-x64.tar.gz /data/subdata/jdk.tar.gz\n",
    "    "
   ]
  },
  {
   "cell_type": "markdown",
   "metadata": {},
   "source": [
    "    8. 删除文件，命令如下：\n",
    "    "
   ]
  },
  {
   "cell_type": "code",
   "execution_count": null,
   "metadata": {},
   "outputs": [],
   "source": [
    "    $ hdfs dfs -rm -r /data/subdata/"
   ]
  },
  {
   "cell_type": "markdown",
   "metadata": {},
   "source": [
    "### 5. HDFS管理命令\n",
    "\n",
    "- 安全模式\n",
    "\n",
    "\n"
   ]
  },
  {
   "cell_type": "code",
   "execution_count": null,
   "metadata": {},
   "outputs": [],
   "source": [
    "    $ hdfs dfsadmin -safemode get\n",
    "    "
   ]
  },
  {
   "cell_type": "markdown",
   "metadata": {},
   "source": [
    "    hdfs dfsadmin -safemode get|enter|leave|wait"
   ]
  },
  {
   "cell_type": "markdown",
   "metadata": {},
   "source": [
    "- report命令"
   ]
  },
  {
   "cell_type": "code",
   "execution_count": null,
   "metadata": {},
   "outputs": [],
   "source": [
    "    $ hdfs dfsadmin -report\n",
    "    \n",
    "    "
   ]
  },
  {
   "cell_type": "code",
   "execution_count": null,
   "metadata": {},
   "outputs": [],
   "source": [
    "Configured Capacity: 37558423552 (34.98 GB)\n",
    "Present Capacity: 29635686400 (27.60 GB)\n",
    "DFS Remaining: 29440000000 (27.42 GB)\n",
    "DFS Used: 195686400 (186.62 MB)\n",
    "DFS Used%: 0.66%\n",
    "Replicated Blocks:\n",
    "        Under replicated blocks: 0\n",
    "        Blocks with corrupt replicas: 0\n",
    "        Missing blocks: 0\n",
    "        Missing blocks (with replication factor 1): 0\n",
    "        Low redundancy blocks with highest priority to recover: 0\n",
    "        Pending deletion blocks: 0\n",
    "Erasure Coded Block Groups: \n",
    "        Low redundancy block groups: 0\n",
    "        Block groups with corrupt internal blocks: 0\n",
    "        Missing block groups: 0\n",
    "        Low redundancy blocks with highest priority to recover: 0\n",
    "        Pending deletion blocks: 0\n",
    "\n",
    "-------------------------------------------------\n",
    "Live datanodes (1):\n",
    "\n",
    "Name: 192.168.1.103:9866 (hadoop)\n",
    "Hostname: hadoop\n",
    "Decommission Status : Normal\n",
    "Configured Capacity: 37558423552 (34.98 GB)\n",
    "DFS Used: 195686400 (186.62 MB)\n",
    "Non DFS Used: 7922737152 (7.38 GB)\n",
    "DFS Remaining: 29440000000 (27.42 GB)\n",
    "DFS Used%: 0.52%\n",
    "DFS Remaining%: 78.38%\n",
    "Configured Cache Capacity: 0 (0 B)\n",
    "Cache Used: 0 (0 B)\n",
    "Cache Remaining: 0 (0 B)\n",
    "Cache Used%: 100.00%\n",
    "Cache Remaining%: 0.00%\n",
    "Xceivers: 1\n",
    "Last contact: Tue Jul 07 14:54:09 CST 2020\n",
    "Last Block Report: Tue Jul 07 14:28:45 CST 2020\n",
    "Num of Blocks: 2\n"
   ]
  },
  {
   "cell_type": "markdown",
   "metadata": {},
   "source": [
    "# 三、网络数据采集与存储\n",
    "### 1. 网络访问工具\n",
    "- 访问工具：浏览器\n",
    "- 测试工具：postman\n",
    "- 编程实现：apache httpclient\n",
    "- 响应返回的页面数据解析\n",
    "    1. jsoup实现页面数据解析\n",
    "    2. document对象数据抽取\n",
    "    \n",
    "- 抓包工具：Charles\n",
    "\n",
    "\n",
    "- 注意\n",
    "    1. 多线程\n",
    "    2. 无间断\n",
    "    \n",
    "### 2. 实现功能\n",
    "\n",
    "- httpclient发送请求发问豆瓣网电影模块top250\n",
    "- html，jsoup, 字符串\n",
    "\n",
    "### 3. 抽取的页面数据存储\n",
    "\n",
    "- logback\n",
    "\n",
    "\n",
    "### 4. 本地存储的数据同步到HDFS\n"
   ]
  },
  {
   "cell_type": "markdown",
   "metadata": {},
   "source": [
    "#### 实现步骤\n",
    "\n",
    "- 创建project工程(maven)\n",
    "    1. pom.xml, httpclient, jsoup, logback\n",
    "    \n",
    "\n",
    "        \n",
    "        \n",
    "    "
   ]
  },
  {
   "cell_type": "markdown",
   "metadata": {},
   "source": [
    "- 分析访问页面请求的规律\n",
    "\n",
    "    1. https://movie.douban.com/top250\n",
    "    2. https://movie.douban.com/top250?start=25&filter=\n",
    "    3. https://movie.douban.com/top250?start=50&filter=\n",
    "    \n",
    "    \n",
    "- 响应数据的规律\n",
    "\n",
    "    1. li标记对\n",
    "    2. 电影名称、评分、评价人数\n",
    "    "
   ]
  },
  {
   "cell_type": "markdown",
   "metadata": {},
   "source": [
    "# 四、Flume安装与应用\n",
    "### 1. Flume概述\n",
    "\n",
    "- 日志采集和汇总工具\n",
    "- 收集到的日志数据汇总到HDFS存储\n",
    "\n",
    "### 2. 安装文件\n",
    "\n",
    "- 云盘\n",
    "- 官方下载\n",
    "- flume：1.9.0\n",
    "\n",
    "\n",
    "### 3.  Flume组件\n",
    "\n",
    "- source：数据源（需要采集的数据）\n",
    "- channel：临时存储的数据位置，通常存储在内存中\n",
    "- sink：数据目标存储，hdfs\n",
    "\n"
   ]
  },
  {
   "cell_type": "markdown",
   "metadata": {},
   "source": [
    "### 4. 安装Flume\n",
    "\n",
    "- 上传安装文件到服务器\n",
    "- 解压安装，命令如下："
   ]
  },
  {
   "cell_type": "code",
   "execution_count": null,
   "metadata": {},
   "outputs": [],
   "source": [
    "    $ tar zxvf apache-flume-1.9.0-bin.tar.gz\n",
    "    \n",
    "    $ ll\n",
    "    \n",
    "    drwxrwxr-x. 7 hadoop hadoop       187 7月   7 17:22 apache-flume-1.9.0-bin\n",
    "    -rwxrwxr-x. 1 hadoop hadoop  67938106 7月   7 17:21 apache-flume-1.9.0-bin.tar.gz\n",
    "    -rwxrwxr-x. 1 hadoop hadoop 359196911 7月   7 11:19 hadoop-3.2.1.tar.gz\n",
    "    -rw-r--r--. 1 hadoop hadoop 194151339 7月   7 14:46 jdk-8u231-linux-x64.tar.gz\n",
    "        \n",
    "    $ exit\n",
    "    \n",
    "    # mv apache-flume-1.9.0-bin /usr/\n",
    "    \n",
    "    "
   ]
  },
  {
   "cell_type": "markdown",
   "metadata": {},
   "source": [
    "- 配置环境变量，~/.bash_profile, 具体内容：\n"
   ]
  },
  {
   "cell_type": "code",
   "execution_count": null,
   "metadata": {},
   "outputs": [],
   "source": [
    "    JAVA_HOME=/usr/jdk1.8.0_231\n",
    "    HADOOP_HOME=/usr/hadoop-3.2.1\n",
    "    FLUME_HOME=/usr/apache-flume-1.9.0-bin\n",
    "    PATH=$FLUME_HOME/bin:$HADOOP_HOME/bin:$HADOOP_HOME/sbin:$JAVA_HOME/bin:$PATH\n",
    "\n",
    "    export JAVA_HOME\n",
    "    export HADOOP_HOME\n",
    "    export FLUME_HOME\n",
    "    export PATH"
   ]
  },
  {
   "cell_type": "markdown",
   "metadata": {},
   "source": [
    "    注意：source ~/.bash_profile"
   ]
  },
  {
   "cell_type": "markdown",
   "metadata": {},
   "source": [
    "- Flume基本配置，$FLUME_HOME/conf/flume-env.sh, 具体配置如下："
   ]
  },
  {
   "cell_type": "code",
   "execution_count": null,
   "metadata": {},
   "outputs": [],
   "source": [
    "    $ cp flume-env.sh.template  flume-env.sh\n",
    "    $ vi flume-env.sh\n",
    "    \n",
    "    \n",
    "     22 export JAVA_HOME=/usr/jdk1.8.0_231"
   ]
  },
  {
   "cell_type": "markdown",
   "metadata": {},
   "source": [
    "- 解决jar包冲突问题\n"
   ]
  },
  {
   "cell_type": "code",
   "execution_count": null,
   "metadata": {},
   "outputs": [],
   "source": [
    "    $ cd /usr/apache-flume-1.9.0-bin/lib\n",
    "    $ ll guava-11.0.2.jar \n",
    "    -rw-rw-r--. 1 hadoop hadoop 1648200 9月  13 2018 guava-11.0.2.jar\n",
    "    \n",
    "    \n",
    "    $ cd /usr/hadoop-3.2.1/share/hadoop/common/lib\n",
    "    $ ll guava-27.0-jre.jar \n",
    "    -rw-r--r--. 1 hadoop hadoop 2747878 9月  10 2019 guava-27.0-jre.jar\n",
    "    \n",
    "    \n",
    "    $ rm -rf /usr/apache-flume-1.9.0-bin/lib/guava-11.0.2.jar \n",
    "    $ cp /usr/hadoop-3.2.1/share/hadoop/common/lib/guava-27.0-jre.jar /usr/apache-flume-1.9.0-bin/lib"
   ]
  },
  {
   "cell_type": "markdown",
   "metadata": {},
   "source": [
    "### 5. 实现数据同步\n",
    "\n",
    "- 功能需求\n",
    "\n",
    "    1. 采集爬虫服务器中的数据汇总到hdfs指定目录\n",
    "    \n",
    "- 实现步骤\n",
    "    1. 启动数据采集服务\n",
    "    2. 启动hdfs服务，保证hdfs可读写\n",
    "    3. 配置一个Agent（Source、Channel、Sink）\n",
    "    4. 使用flume1.7+版本新特性，source组件中提供了高可靠的同步模式(TIALDIR), 保证数据不丢失\n",
    "    5. 编写运行脚本(shell/sh)并执行\n",
    "    \n",
    "    "
   ]
  },
  {
   "cell_type": "code",
   "execution_count": null,
   "metadata": {},
   "outputs": [],
   "source": [
    "    $ cd /usr/apache-flume-1.9.0-bin/\n",
    "    $ mkdir myconf\n",
    "    $ cd myconf\n",
    "    \n",
    "    $ vi flume-taildir-memory-hdfs.properties\n",
    "    \n",
    "    "
   ]
  },
  {
   "cell_type": "markdown",
   "metadata": {},
   "source": [
    "    创建agent配置文件\"flume-taildir-memory-hdfs.properties\", 具体配置如下："
   ]
  },
  {
   "cell_type": "code",
   "execution_count": null,
   "metadata": {},
   "outputs": [],
   "source": [
    "\n",
    "# Name the components on this agent\n",
    "hdfs_agent.sources = r1\n",
    "hdfs_agent.sinks = k1\n",
    "hdfs_agent.channels = c1\n",
    "\n",
    "# Describe/configure the source\n",
    "hdfs_agent.sources.r1.type = TAILDIR\n",
    "hdfs_agent.sources.r1.filegroups = f1\n",
    "hdfs_agent.sources.r1.filegroups.f1 = /home/hadoop/spider/data/collect/.*\\.log\n",
    "hdfs_agent.sources.r1.positionFile = /home/hadoop/spider/data/.flume/taildir_position.json\n",
    "\n",
    "# Describe the sink\n",
    "hdfs_agent.sinks.k1.type = hdfs\n",
    "hdfs_agent.sinks.k1.hdfs.path = hdfs://hadoop:9000/flume/hdfs_filegroups_source/%Y-%m-%d/\n",
    "hdfs_agent.sinks.k1.hdfs.rollInterval = 3600\n",
    "hdfs_agent.sinks.k1.hdfs.rollSize = 1048576\n",
    "hdfs_agent.sinks.k1.hdfs.rollCount = 0\n",
    "hdfs_agent.sinks.k1.hdfs.filePrefix = log_file_%H\n",
    "hdfs_agent.sinks.k1.hdfs.fileSuffix = .log\n",
    "hdfs_agent.sinks.k1.hdfs.fileType = DataStream\n",
    "hdfs_agent.sinks.k1.hdfs.useLocalTimeStamp = true\n",
    "\n",
    "# Use a channel which buffers events in memory\n",
    "hdfs_agent.channels.c1.type = memory\n",
    "hdfs_agent.channels.c1.capacity = 1000\n",
    "hdfs_agent.channels.c1.transactionCapacity = 100\n",
    "\n",
    "# Bind the source and sink to the channel\n",
    "hdfs_agent.sources.r1.channels = c1\n",
    "hdfs_agent.sinks.k1.channel = c1"
   ]
  },
  {
   "cell_type": "code",
   "execution_count": null,
   "metadata": {},
   "outputs": [],
   "source": [
    "    $ hdfs dfs -mkdir -p /flume/hdfs_filegroups_source/"
   ]
  },
  {
   "cell_type": "markdown",
   "metadata": {},
   "source": [
    "    编写shell脚本，安装目录下创建mysbin目录，start_taildir_memory_hdfs.sh ， 具体内容如下："
   ]
  },
  {
   "cell_type": "code",
   "execution_count": null,
   "metadata": {},
   "outputs": [],
   "source": [
    "    $ cd /usr/apache-flume-1.9.0-bin/\n",
    "    $ mkdir mysbin\n",
    "    $ cd mysbin\n",
    "    $ vi start_taildir_memory_hdfs.sh\n",
    "    \n",
    "    \n",
    "    #!/bin/bash\n",
    "\n",
    "    ROOT_PATH=$(dirname $(dirname $(readlink -f $0)))\n",
    "    cd $ROOT_PATH\n",
    "\n",
    "    bin/flume-ng agent --conf ./conf/ -f myconf/flume-taildir-memory-hdfs.properties -Dflume.root.logger=INFO,console -n hdfs_agent"
   ]
  },
  {
   "cell_type": "markdown",
   "metadata": {},
   "source": [
    "    更改脚本的执行权限，命令如下：\n",
    "    "
   ]
  },
  {
   "cell_type": "code",
   "execution_count": null,
   "metadata": {},
   "outputs": [],
   "source": [
    "    $ chmod 755 start_taildir_memory_hdfs.sh\n",
    "     ll\n",
    "    总用量 4\n",
    "    -rwxr-xr-x. 1 hadoop hadoop 206 7月   7 17:56 start_taildir_memory_hdfs.sh"
   ]
  },
  {
   "cell_type": "markdown",
   "metadata": {},
   "source": [
    "    执行start_taildir_memory_hdfs.sh脚本文件，命令如下：\n",
    "    "
   ]
  },
  {
   "cell_type": "code",
   "execution_count": null,
   "metadata": {},
   "outputs": [],
   "source": [
    "    $ nohup ./start_taildir_memory_hdfs.sh &\n",
    "    "
   ]
  }
 ],
 "metadata": {
  "kernelspec": {
   "display_name": "Python 3",
   "language": "python",
   "name": "python3"
  },
  "language_info": {
   "codemirror_mode": {
    "name": "ipython",
    "version": 3
   },
   "file_extension": ".py",
   "mimetype": "text/x-python",
   "name": "python",
   "nbconvert_exporter": "python",
   "pygments_lexer": "ipython3",
   "version": "3.8.3"
  }
 },
 "nbformat": 4,
 "nbformat_minor": 4
}
